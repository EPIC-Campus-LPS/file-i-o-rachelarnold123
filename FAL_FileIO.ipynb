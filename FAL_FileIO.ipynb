{
 "cells": [
  {
   "cell_type": "markdown",
   "metadata": {},
   "source": [
    "# Lab 0.4 File IO\n",
    "\n",
    "## Objective\n",
    "\n",
    "1. Read information from files using Python\n",
    "2. Use regular expressions to extract information from text\n",
    "3. Create files using Python\n",
    "\n",
    "*The challenge section and \"just for fun\" section are optional.*\n",
    "\n",
    "## Rubric\n",
    "\n",
    "- 6 pts - Contains all required components and uses professional language\n",
    "- 5 pts - Contains all required components, but uses unprofessional language, formating, etc. \n",
    "- 4 pts - Contains some, but not all, of the required components\n",
    "- 3 pts - Did not submit"
   ]
  },
  {
   "cell_type": "markdown",
   "metadata": {},
   "source": [
    "## Part 1: Letter Frequency\n",
    "\n",
    "A Caesar cipher, or a shift cipher, is one of the simplest encryption techniques. This method is named after Julius Caesar who would use it to send private messages. To encrypt information with a Caesar cipher, each letter in your message or plaintext is replaced by a letter a fixed numbers of positions away in the alphabet to generate your ciphertext.\n",
    "\n",
    "For example, if I wanted to encrypt the message `ECHO` using a left shift of 3, I would rewrite each character by shifting the entire alphabet left by 3 characters. Using the chart and key below, we can see that `E -> B`, `C -> Z`, `H -> E`, and `O -> L`. So `ECHO` becomes `BZEL`.\n",
    "\n",
    "![Pasted image 20231227102315](https://github.com/gormes-EPIC/FileIO-CSV-DSF/assets/134316348/36015604-5669-475c-a8c6-3d4674da98d4)\n",
    "- Plaintext:  ABCDEFGHIJKLMNOPQRSTUVWXYZ\n",
    "- Ciphertext: XYZABCDEFGHIJKLMNOPQRSTUVW\n",
    "\n",
    "We can use the same cipher to encrypt the plaintext `THE QUICK BROWN FOX JUMPS OVER THE LAZY DOG` as the ciphertext `QEB NRFZH YOLTK CLU GRJMP LSBO QEB IXWV ALD`. Then decrypt it using our key in the other direction and shifting right by 3.\n",
    "\n",
    "As long as whoever is reading the message knows you have shifted the alphabet left by 3, it is straightforward to decrypt `BZEL` as `ECHO`. But what if you intercepted this message and didn't know the original shift? By exploiting patterns in the English language, we can actually decrypt Caesar ciphers without knowing the original shift. [Source](https://www.101computing.net/caesar-cipher/)\n",
    "\n",
    "\n",
    "### Your Task\n",
    "\n",
    "One way to break a Caesar cipher is to look at the frequency of the letters. In a typical English text, some letters are much more frequent that others.\n",
    "\n",
    "To create your frequency table you will:\n",
    "\n",
    "1. Using [Project Gutenburg](https://www.gutenberg.org/) download at least one book into your directory. *Hint: Once you navigate to a book, copy the URL of the Plain Text UTF-8 download and user the `wget` command in your terminal.*\n",
    "2. Open your book using Python, count each of the letters, and create a frequency table.\n",
    "3. After you are done, print out the information.\n",
    "\n",
    "#### Example Output\n",
    "\n",
    "```\n",
    "A: 1023\n",
    "B: 356\n",
    "C: 40\n",
    "...\n",
    "```\n",
    "\n"
   ]
  },
  {
   "cell_type": "code",
   "execution_count": 26,
   "metadata": {},
   "outputs": [
    {
     "name": "stdout",
     "output_type": "stream",
     "text": [
      "A: 66016\n",
      "B: 12360\n",
      "C: 19741\n",
      "D: 36838\n",
      "E: 103724\n",
      "F: 18178\n",
      "G: 15766\n",
      "H: 52504\n",
      "I: 51866\n",
      "J: 674\n",
      "K: 6675\n",
      "L: 36074\n",
      "M: 21207\n",
      "N: 56567\n",
      "O: 63283\n",
      "P: 14096\n",
      "Q: 707\n",
      "R: 51148\n",
      "S: 49516\n",
      "T: 69031\n",
      "U: 23674\n",
      "V: 8526\n",
      "W: 18594\n",
      "X: 1155\n",
      "Y: 17677\n",
      "Z: 390\n"
     ]
    }
   ],
   "source": [
    "with open(\"pg75125.txt\") as file:\n",
    "    var = file.readlines()\n",
    "letters = [\n",
    "'A', 'B', 'C', 'D', 'E', 'F', 'G', 'H', 'I', 'J', \n",
    "'K', 'L', 'M', 'N', 'O', 'P', 'Q', 'R', 'S', 'T', \n",
    "'U', 'V', 'W', 'X', 'Y', 'Z']\n",
    "for A in letters:\n",
    "    var = open(\"pg75125.txt\", 'r')\n",
    "    text = var.read().upper()\n",
    "    count = text.count(A)\n",
    "    print(f\"{A}: {count}\")"
   ]
  },
  {
   "cell_type": "markdown",
   "metadata": {},
   "source": [
    "### Just for Fun! Break this Caesar Cipher\n",
    "\n",
    "Decode the following ciphertext. Start by using the frequency table you just made and matching the most popular letters with the letters from above. *Tip: In addition to using your letter frequency table from above to help you, look at the 1 and 2 letter words carefully. There are limited options those characters could be! Also, look try to identify frequently used words like `THE` or `AND` in your ciphertext.*\n",
    "\n",
    "  Ciphertext:\n",
    "\n",
    "```\n",
    "\n",
    "PA PZ H WLYPVK VM JPCPS DHY. YLILS ZWHJLZOPWZ, ZAYPRPUN MYVT H OPKKLU IHZL, OHCL DVU AOLPY MPYZA CPJAVYF HNHPUZA AOL LCPS NHSHJAPJ LTWPYL. KBYPUN AOL IHAASL, YLILS ZWPLZ THUHNLK AV ZALHS ZLJYLA WSHUZ AV AOL LTWLYVY'Z BSAPTHAL DLHWVU, AOL KLHAO ZAHY, HU HYTVYLK ZWHJL ZAHAPVU DPAO LUVBNO WVDLY AV KLZAYVF HU LUAPYL WSHULA. WBYZBLK IF AOL LTWLYVY'Z ZPUPZALY HNLUAZ, WYPUJLZZ SLPH YHJLZ OVTL HIVHYK OLY ZAHYZOPW, JBZAVKPHU VM AOL ZAVSLU WSHUZ AOHA JHU ZHCL OLY WLVWSL HUK YLZAVYL MYLLKVT AV AOL NHSHEF ....\n",
    "\n",
    "```"
   ]
  },
  {
   "cell_type": "code",
   "execution_count": null,
   "metadata": {},
   "outputs": [],
   "source": []
  },
  {
   "cell_type": "markdown",
   "metadata": {},
   "source": [
    "## Part 2: Analyzing Server Activity\n",
    "\n",
    "One important way for businesses to keep themselves secure is to monitor their server logs.\n",
    "\n",
    "Read in `server_log.txt` containing server access logs with entries like \"IP Address-Timestamp-Page Accessed\". Notice which character we are using as a delimiter.\n",
    "\n",
    "- Count the total number of unique IP addresses that accessed the server.\n",
    "- Identify the top three most used IP addresses.\n",
    "- Generate a report file `server_summary.txt` containing this information."
   ]
  },
  {
   "cell_type": "code",
   "execution_count": null,
   "metadata": {},
   "outputs": [
    {
     "name": "stdout",
     "output_type": "stream",
     "text": [
      "MAX:  237.227.142.204\n"
     ]
    },
    {
     "ename": "AttributeError",
     "evalue": "'int' object has no attribute 'items'",
     "output_type": "error",
     "traceback": [
      "\u001b[0;31m---------------------------------------------------------------------------\u001b[0m",
      "\u001b[0;31mAttributeError\u001b[0m                            Traceback (most recent call last)",
      "Cell \u001b[0;32mIn[9], line 29\u001b[0m\n\u001b[1;32m     26\u001b[0m value_to_update \u001b[38;5;241m=\u001b[39m greatest\n\u001b[1;32m     28\u001b[0m \u001b[38;5;66;03m# Find and update the value\u001b[39;00m\n\u001b[0;32m---> 29\u001b[0m \u001b[38;5;28;01mfor\u001b[39;00m key, value \u001b[38;5;129;01min\u001b[39;00m \u001b[43mfinal\u001b[49m\u001b[38;5;241;43m.\u001b[39;49m\u001b[43mitems\u001b[49m():\n\u001b[1;32m     30\u001b[0m     \u001b[38;5;28;01mif\u001b[39;00m value \u001b[38;5;241m==\u001b[39m value_to_update:\n\u001b[1;32m     31\u001b[0m         final[key] \u001b[38;5;241m=\u001b[39m \u001b[38;5;241m0\u001b[39m\n",
      "\u001b[0;31mAttributeError\u001b[0m: 'int' object has no attribute 'items'"
     ]
    }
   ],
   "source": [
    "\n",
    "file = open(\"server_log.txt\")\n",
    "final = {}\n",
    "lines = file.readlines()\n",
    "#print(lines)\n",
    "#file1 = open(\"server_summary.txt\", 'x')\n",
    "\n",
    "iplist = []\n",
    "for i in lines:\n",
    "    var = i.split('-')[0]\n",
    "    iplist.append(var)\n",
    "for i in iplist:\n",
    "            if i in final:\n",
    "                final[i] = final[i] + 1\n",
    "            else:\n",
    "                final[i] = 1\n",
    "for key, value in final.items():\n",
    "    value = int(value)\n",
    "    #print(value, key)\n",
    "#Most max\n",
    "greatest = max(zip(final.values(), final.keys()))[1]\n",
    "final = final.pop(greatest)\n",
    "#final(greatest)\n",
    "print(\"MAX: \", greatest)\n",
    "\n",
    "#2nd most max\n",
    "value_to_update = greatest\n",
    "\n",
    "# Find and update the value\n",
    "for key, value in final.items():\n",
    "    if value == value_to_update:\n",
    "        final[key] = 0\n",
    "\n",
    "second = max(zip(final.values(), final.keys()))[1]\n",
    "print(\"2nd Most Max: \", second)\n",
    "\n",
    "value_to_update = second\n",
    "\n",
    "for key, value in final.items():\n",
    "    if value == value_to_update:\n",
    "        final[key] = 0\n",
    "\n",
    "#3rd most max'\n",
    "least = max(zip(final.values(), final.keys()))[1]\n",
    "print(\"3rd Greatest: \", least)\n",
    "value_to_update = least\n",
    "\n",
    "for key, value in final.items():\n",
    "    if value == value_to_update:\n",
    "        final[key] = 0\n",
    "file.close()"
   ]
  },
  {
   "cell_type": "markdown",
   "metadata": {},
   "source": [
    "## Part 3: Creating Usernames\n",
    "\n",
    "Use the file `emails.txt` to create a list of usernames and random passwords for each user. Then, output the emails, usernames, and random passwords into an output file `output.txt`.\n",
    "\n",
    "The usernames should be the same username as the email. So for  `findlay_butler@hr.yahoo.com`, his username would be `findlay_butler`.\n",
    "\n",
    "The passwords should be 8 characters long and a random combination of letters and numbers. \n",
    "\n",
    "For the first user, `output.txt` should look like: \n",
    "```\n",
    "findlay_butler@hr.yahoo.com,findlay_butler,abiojash\n",
    "```\n",
    "\n",
    "### Challenge: Using Regular Expressions\n",
    "\n",
    "Instead of using the email username as their user account, their username should be their first initial and their last name instead. So for `findlay_butler@hr.yahoo.com`  the username would be `fbutler`. The easiest way to do this is probably **using regular expressions.** \n",
    "\n",
    "For more explanation and practice with regular expressions, use [regexone.com](https://regexone.com/). For help creating your regular expression query, use [regex101.com](https://regex101.com/). "
   ]
  },
  {
   "cell_type": "code",
   "execution_count": 17,
   "metadata": {},
   "outputs": [
    {
     "name": "stdout",
     "output_type": "stream",
     "text": [
      "{'findlay_butler': 'iOCNV+B\\\\', 'cain_mosley': 'CJRWIKGe', 'donna_beltran': 's|[gUJN-', 'sian_ramirez': 'K_=|4\"1P', 'angelo_fulton': 'm}GJqq*-', 'daniyal_castro': 'r6}?Ug%&', 'cayden_morrison': \"ZV@K'r_o\", 'amir_haney': \"2s~'~4Ks\", 'olive_fowler': 'sk$\\'S{L\"', 'ernest_bauer': ')E%X}\\\\BA', 'isla_burnett': '$jL$\\\\t5q', 'albert_velazquez': \"'z6Q=txM\", 'filip_donovan': '`ki)=Ly8', 'hamza_crawford': '[)=l4K}y', 'astrid_obrien': 'fQ;o&e*S', 'milan_odling': 'D>%|W|}D', 'ruairi_stevenson': \"WI?'hhg>\", 'ria_bonner': '8!4dk@,M', 'ela_hicks': '>6H!.$J]', 'aron_bean': '7/^gH!lX', 'woody_gardner': 'UJ!#enzy', 'clyde_stokes': 'KL>#qRQs', 'samantha_harrison': ']RFPbxB=', 'gina_mason': '\\\\qaRlxzT', 'hollie_vance': \"'O>$s#+x\", 'tillie_villa': 'Y8*~lrMU', 'jacqueline_dean': 'a+PudR&V', 'xavier_vaughn': 'Y7-Z|yk&', 'elif_pace': '7zbPG:J`', 'thalia_duran': ';,D)Ga9;', 'lacey_fields': 'aamP~!\"z', 'abi_hamilton': '$KZQW8,~', 'carys_ward': '\"Je=|=4<', 'philippa_velez': 'kDX)2gEb', 'annie_chen': '/a6@7P,=', 'rhonda_sears': 'CL>A:*yi', 'casey_bullock': '%6C*aBx<', 'lily-may_morgan': '=e}fAYA;', 'jak_garner': 'F[`U|r9O', 'abbas_hines': '+c@WoD5-', 'amira_gill': 'rVrHICro', 'jaime_watkins': 'X8GeDba#', 'noor_mccall': '/(h@KG%/', 'jasper_norris': 'tVXDR]N#', 'olivier_roach': 'YU,l5@l+', 'dhruv_callahan': '}7;g?g%4', 'anjali_meyer': '^=u\"\\'Wi\\\\', 'mae_noble': 'ESrIchwG', 'brogan_fitzpatrick': \"'#c&[v!|\", 'haris_clayton': '|IM?!\\\\eN'}\n"
     ]
    }
   ],
   "source": [
    "file = open(\"emails.txt\")\n",
    "file2 = open(\"output.txt\", 'x')\n",
    "user = {}\n",
    "lines = file.readlines()\n",
    "\n",
    "userlist = []\n",
    "for i in lines:\n",
    "    var = i.split('@')[0]\n",
    "    userlist.append(var)\n",
    "#print(userlist)\n",
    "\n",
    "import random\n",
    "import string\n",
    "\n",
    "# Define the pool of characters\n",
    "characters = string.ascii_letters + string.digits + string.punctuation\n",
    "\n",
    "# Create a dictionary with random sequences as values\n",
    "for item in userlist:\n",
    "    user[item] = ''.join(random.choice(characters) for _ in range(8))\n",
    "\n",
    "for u in user:\n",
    "    file2.write(u)\n",
    "print(file2)\n",
    "\n",
    "file.close()\n",
    "file2.close()"
   ]
  }
 ],
 "metadata": {
  "kernelspec": {
   "display_name": "Python 3",
   "language": "python",
   "name": "python3"
  },
  "language_info": {
   "codemirror_mode": {
    "name": "ipython",
    "version": 3
   },
   "file_extension": ".py",
   "mimetype": "text/x-python",
   "name": "python",
   "nbconvert_exporter": "python",
   "pygments_lexer": "ipython3",
   "version": "3.12.3"
  }
 },
 "nbformat": 4,
 "nbformat_minor": 2
}
